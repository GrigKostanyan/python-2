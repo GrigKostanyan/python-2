{
 "cells": [
  {
   "cell_type": "markdown",
   "metadata": {},
   "source": [
    "## Problem 1\n",
    "\n",
    "```\n",
    "Use adapter pattern and classes of your choice. Create a structure where you have 1-2 adaptees that have a method that returns some text in spanish. Have an adapter which will have a method that translates the text to english. Have examples of the usage of your class structure.\n",
    "```"
   ]
  },
  {
   "cell_type": "code",
   "execution_count": 43,
   "metadata": {},
   "outputs": [
    {
     "name": "stdout",
     "output_type": "stream",
     "text": [
      "Barcelona\n"
     ]
    }
   ],
   "source": [
    "class Adaptee1:\n",
    "    def f(self):\n",
    "        return 'Barcelona'\n",
    "    \n",
    "class Adaptee2:\n",
    "    def g(self):\n",
    "        return 'Madrid'\n",
    "    \n",
    "class Adapter:\n",
    "    def __init__(self, a):\n",
    "        self.adaptee = a()\n",
    "    def translate(self):\n",
    "        textInSpanish = ''\n",
    "        if isinstance(self.adaptee, Adaptee1):\n",
    "            textInSpanish = self.adaptee.f()\n",
    "        elif isinstance(self.adaptee, Adaptee2):\n",
    "            textInSpanish = self.adaptee.g()\n",
    "        else:\n",
    "            raise Exception(\"Unknown adaptee !!!\")\n",
    "        print(textInSpanish)\n",
    "\n",
    "a = Adapter(Adaptee1)\n",
    "a.translate()"
   ]
  },
  {
   "cell_type": "markdown",
   "metadata": {},
   "source": [
    "## Problem 2 : bonus\n",
    "\n",
    "```\n",
    "Imagine that you have a video that you want to play. You have audioplayer (only able to play the audio without showing the video) and videoplayer (only able to display the video without sound). Create classes video (with attributes video, audio, adapter and player, as well as other attributes and methods of your choice), player interface, audioplayer and videoplayers of type player (these should have a method play which should play the media file in case it is in the right fomat and print some other message otherwise), adapters for modifying the media files according to the player used. Feel free to implement the logic however you imagine, using adapter design patter. Also have examples of the usage of your class structure. \n",
    "```"
   ]
  },
  {
   "cell_type": "code",
   "execution_count": null,
   "metadata": {},
   "outputs": [],
   "source": []
  },
  {
   "cell_type": "markdown",
   "metadata": {},
   "source": [
    "## Problem 3\n",
    "\n",
    "```\n",
    "Use singleton pattern and classes of your choice. Create a structure where you have some resource that has states busy and free and 3 users that try to use the resource and change the state to busy while they are using it. The resource should be singleton. Implement using 2 different methods for singleton implementation that we have discussed. \n",
    "```"
   ]
  },
  {
   "cell_type": "code",
   "execution_count": 27,
   "metadata": {},
   "outputs": [],
   "source": [
    "#ONLY CLASSIC IMPLEMENTATION\n",
    "class Resource:\n",
    "    state = 'free'\n",
    "    instance = 'initial'\n",
    "    \n",
    "    @staticmethod\n",
    "    def getInstance():\n",
    "        if Resource.instance == 'initial':\n",
    "            Resource()\n",
    "        return Resource.instance\n",
    "    \n",
    "    def __init__(self):\n",
    "        if Resource.instance == 'initial':\n",
    "            Resource.instance = self\n",
    "        else:\n",
    "            raise Exception(\"This class is a singleton class !!!\")\n",
    "            \n",
    "    def useResource(self):\n",
    "        if self.state == 'free':\n",
    "            self.state = 'busy'\n",
    "        else:\n",
    "            raise Exception(\"Using a busy resource !!!\")\n",
    "    \n",
    "    def releaseResource(self):\n",
    "        self.state = 'free'"
   ]
  },
  {
   "cell_type": "code",
   "execution_count": 28,
   "metadata": {},
   "outputs": [],
   "source": [
    "class User:\n",
    "    def __init__(self):\n",
    "        self.r = Resource.getInstance()\n",
    "    def f(self):\n",
    "        if self.r.state == 'free':\n",
    "            self.r.useResource()\n",
    "            self.r.releaseResource()"
   ]
  },
  {
   "cell_type": "code",
   "execution_count": 29,
   "metadata": {},
   "outputs": [],
   "source": [
    "u1 = User()\n",
    "u2 = User()\n",
    "u3 = User()"
   ]
  },
  {
   "cell_type": "code",
   "execution_count": 30,
   "metadata": {},
   "outputs": [],
   "source": [
    "u1.f()"
   ]
  },
  {
   "cell_type": "code",
   "execution_count": 31,
   "metadata": {},
   "outputs": [],
   "source": [
    "u2.f()"
   ]
  },
  {
   "cell_type": "code",
   "execution_count": 32,
   "metadata": {},
   "outputs": [],
   "source": [
    "u3.f()"
   ]
  }
 ],
 "metadata": {
  "kernelspec": {
   "display_name": "Python 3 (ipykernel)",
   "language": "python",
   "name": "python3"
  },
  "language_info": {
   "codemirror_mode": {
    "name": "ipython",
    "version": 3
   },
   "file_extension": ".py",
   "mimetype": "text/x-python",
   "name": "python",
   "nbconvert_exporter": "python",
   "pygments_lexer": "ipython3",
   "version": "3.9.7"
  }
 },
 "nbformat": 4,
 "nbformat_minor": 4
}
